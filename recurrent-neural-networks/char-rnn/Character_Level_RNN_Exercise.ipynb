{
 "cells": [
  {
   "cell_type": "markdown",
   "metadata": {
    "colab_type": "text",
    "id": "nc6fqQ_VT6H-"
   },
   "source": [
    "# Character-Level LSTM in PyTorch\n",
    "\n",
    "In this notebook, I'll construct a character-level LSTM with PyTorch. The network will train character by character on some text, then generate new text character by character. As an example, I will train on Anna Karenina. **This model will be able to generate new text based on the text from the book!**\n",
    "\n",
    "This network is based off of Andrej Karpathy's [post on RNNs](http://karpathy.github.io/2015/05/21/rnn-effectiveness/) and [implementation in Torch](https://github.com/karpathy/char-rnn). Below is the general architecture of the character-wise RNN.\n",
    "\n",
    "<img src=\"assets/charseq.jpeg\" width=\"500\">"
   ]
  },
  {
   "cell_type": "markdown",
   "metadata": {
    "colab_type": "text",
    "id": "bj3c-JfRT6ID"
   },
   "source": [
    "First let's load in our required resources for data loading and model creation."
   ]
  },
  {
   "cell_type": "code",
   "execution_count": 0,
   "metadata": {
    "colab": {},
    "colab_type": "code",
    "id": "vUBKIVm-T6IF"
   },
   "outputs": [],
   "source": [
    "import numpy as np\n",
    "import torch\n",
    "from torch import nn\n",
    "import torch.nn.functional as F"
   ]
  },
  {
   "cell_type": "markdown",
   "metadata": {
    "colab_type": "text",
    "id": "lS2lT9V1T6IZ"
   },
   "source": [
    "## Load in Data\n",
    "\n",
    "Then, we'll load the Anna Karenina text file and convert it into integers for our network to use. "
   ]
  },
  {
   "cell_type": "code",
   "execution_count": 0,
   "metadata": {
    "colab": {},
    "colab_type": "code",
    "id": "k53bgxWcT6If"
   },
   "outputs": [],
   "source": [
    "# open text file and read in data as `text`\n",
    "with open('/content/gdrive/My Drive/char-rnn/data/anna.txt', 'r') as f:\n",
    "    text = f.read()"
   ]
  },
  {
   "cell_type": "markdown",
   "metadata": {
    "colab_type": "text",
    "id": "KUXdPFUQT6Ip"
   },
   "source": [
    "Let's check out the first 100 characters, make sure everything is peachy. According to the [American Book Review](http://americanbookreview.org/100bestlines.asp), this is the 6th best first line of a book ever."
   ]
  },
  {
   "cell_type": "code",
   "execution_count": 3,
   "metadata": {
    "colab": {
     "base_uri": "https://localhost:8080/",
     "height": 34
    },
    "colab_type": "code",
    "id": "-huCZmbzT6Iq",
    "outputId": "bc19e777-ab5f-491b-dd43-c100ffdf8319"
   },
   "outputs": [
    {
     "data": {
      "text/plain": [
       "'Chapter 1\\n\\n\\nHappy families are all alike; every unhappy family is unhappy in its own\\nway.\\n\\nEverythin'"
      ]
     },
     "execution_count": 3,
     "metadata": {
      "tags": []
     },
     "output_type": "execute_result"
    }
   ],
   "source": [
    "text[:100]"
   ]
  },
  {
   "cell_type": "markdown",
   "metadata": {
    "colab_type": "text",
    "id": "3UpNvkFdT6Iz"
   },
   "source": [
    "### Tokenization\n",
    "\n",
    "In the cells, below, I'm creating a couple **dictionaries** to convert the characters to and from integers. Encoding the characters as integers makes it easier to use as input in the network."
   ]
  },
  {
   "cell_type": "code",
   "execution_count": 0,
   "metadata": {
    "colab": {},
    "colab_type": "code",
    "id": "4xg1l9OAT6I0"
   },
   "outputs": [],
   "source": [
    "# encode the text and map each character to an integer and vice versa\n",
    "\n",
    "# we create two dictionaries:\n",
    "# 1. int2char, which maps integers to characters\n",
    "# 2. char2int, which maps characters to unique integers\n",
    "chars = tuple(set(text))\n",
    "int2char = dict(enumerate(chars))\n",
    "char2int = {ch: ii for ii, ch in int2char.items()}\n",
    "\n",
    "# encode the text\n",
    "encoded = np.array([char2int[ch] for ch in text])"
   ]
  },
  {
   "cell_type": "markdown",
   "metadata": {
    "colab_type": "text",
    "id": "t71l7HA2T6I_"
   },
   "source": [
    "And we can see those same characters from above, encoded as integers."
   ]
  },
  {
   "cell_type": "code",
   "execution_count": 5,
   "metadata": {
    "colab": {
     "base_uri": "https://localhost:8080/",
     "height": 119
    },
    "colab_type": "code",
    "id": "qA0oMkaRT6JB",
    "outputId": "52f38159-7908-4014-cd5e-caac50511fb7"
   },
   "outputs": [
    {
     "data": {
      "text/plain": [
       "array([11, 15, 69,  3,  7, 49, 22,  4, 41, 57, 57, 57, 53, 69,  3,  3, 29,\n",
       "        4, 73, 69, 38, 63, 64, 63, 49, 39,  4, 69, 22, 49,  4, 69, 64, 64,\n",
       "        4, 69, 64, 63, 10, 49, 35,  4, 49,  0, 49, 22, 29,  4, 65, 16, 15,\n",
       "       69,  3,  3, 29,  4, 73, 69, 38, 63, 64, 29,  4, 63, 39,  4, 65, 16,\n",
       "       15, 69,  3,  3, 29,  4, 63, 16,  4, 63,  7, 39,  4, 44, 76, 16, 57,\n",
       "       76, 69, 29, 46, 57, 57, 40,  0, 49, 22, 29,  7, 15, 63, 16])"
      ]
     },
     "execution_count": 5,
     "metadata": {
      "tags": []
     },
     "output_type": "execute_result"
    }
   ],
   "source": [
    "encoded[:100]"
   ]
  },
  {
   "cell_type": "markdown",
   "metadata": {
    "colab_type": "text",
    "id": "78SWZErwT6JK"
   },
   "source": [
    "## Pre-processing the data\n",
    "\n",
    "As you can see in our char-RNN image above, our LSTM expects an input that is **one-hot encoded** meaning that each character is converted into an integer (via our created dictionary) and *then* converted into a column vector where only it's corresponding integer index will have the value of 1 and the rest of the vector will be filled with 0's. Since we're one-hot encoding the data, let's make a function to do that!\n"
   ]
  },
  {
   "cell_type": "code",
   "execution_count": 0,
   "metadata": {
    "colab": {},
    "colab_type": "code",
    "id": "P0xmBEpcT6JL"
   },
   "outputs": [],
   "source": [
    "def one_hot_encode(arr, n_labels):\n",
    "    \n",
    "    # Initialize the the encoded array\n",
    "    one_hot = np.zeros((arr.size, n_labels), dtype=np.float32)\n",
    "    \n",
    "    # Fill the appropriate elements with ones\n",
    "    one_hot[np.arange(one_hot.shape[0]), arr.flatten()] = 1.\n",
    "    \n",
    "    # Finally reshape it to get back to the original array\n",
    "    one_hot = one_hot.reshape((*arr.shape, n_labels))\n",
    "    \n",
    "    return one_hot"
   ]
  },
  {
   "cell_type": "code",
   "execution_count": 7,
   "metadata": {
    "colab": {
     "base_uri": "https://localhost:8080/",
     "height": 68
    },
    "colab_type": "code",
    "id": "xm1wk6aJT6JT",
    "outputId": "9c174582-a967-4cee-d1f3-6a36c5cbf686"
   },
   "outputs": [
    {
     "name": "stdout",
     "output_type": "stream",
     "text": [
      "[[[0. 0. 0. 1. 0. 0. 0. 0.]\n",
      "  [0. 0. 0. 0. 0. 1. 0. 0.]\n",
      "  [0. 1. 0. 0. 0. 0. 0. 0.]]]\n"
     ]
    }
   ],
   "source": [
    "# check that the function works as expected\n",
    "test_seq = np.array([[3, 5, 1]])\n",
    "one_hot = one_hot_encode(test_seq, 8)\n",
    "\n",
    "print(one_hot)"
   ]
  },
  {
   "cell_type": "markdown",
   "metadata": {
    "colab_type": "text",
    "id": "sqdRFmJbT6Ja"
   },
   "source": [
    "## Making training mini-batches\n",
    "\n",
    "\n",
    "To train on this data, we also want to create mini-batches for training. Remember that we want our batches to be multiple sequences of some desired number of sequence steps. Considering a simple example, our batches would look like this:\n",
    "\n",
    "<img src=\"assets/sequence_batching@1x.png\" width=500px>\n",
    "\n",
    "\n",
    "<br>\n",
    "\n",
    "In this example, we'll take the encoded characters (passed in as the `arr` parameter) and split them into multiple sequences, given by `batch_size`. Each of our sequences will be `seq_length` long.\n",
    "\n",
    "### Creating Batches\n",
    "\n",
    "**1. The first thing we need to do is discard some of the text so we only have completely full mini-batches. **\n",
    "\n",
    "Each batch contains $N \\times M$ characters, where $N$ is the batch size (the number of sequences in a batch) and $M$ is the seq_length or number of time steps in a sequence. Then, to get the total number of batches, $K$, that we can make from the array `arr`, you divide the length of `arr` by the number of characters per batch. Once you know the number of batches, you can get the total number of characters to keep from `arr`, $N * M * K$.\n",
    "\n",
    "**2. After that, we need to split `arr` into $N$ batches. ** \n",
    "\n",
    "You can do this using `arr.reshape(size)` where `size` is a tuple containing the dimensions sizes of the reshaped array. We know we want $N$ sequences in a batch, so let's make that the size of the first dimension. For the second dimension, you can use `-1` as a placeholder in the size, it'll fill up the array with the appropriate data for you. After this, you should have an array that is $N \\times (M * K)$.\n",
    "\n",
    "**3. Now that we have this array, we can iterate through it to get our mini-batches. **\n",
    "\n",
    "The idea is each batch is a $N \\times M$ window on the $N \\times (M * K)$ array. For each subsequent batch, the window moves over by `seq_length`. We also want to create both the input and target arrays. Remember that the targets are just the inputs shifted over by one character. The way I like to do this window is use `range` to take steps of size `n_steps` from $0$ to `arr.shape[1]`, the total number of tokens in each sequence. That way, the integers you get from `range` always point to the start of a batch, and each window is `seq_length` wide.\n",
    "\n",
    "> **TODO:** Write the code for creating batches in the function below. The exercises in this notebook _will not be easy_. I've provided a notebook with solutions alongside this notebook. If you get stuck, checkout the solutions. The most important thing is that you don't copy and paste the code into here, **type out the solution code yourself.**"
   ]
  },
  {
   "cell_type": "code",
   "execution_count": 0,
   "metadata": {
    "colab": {},
    "colab_type": "code",
    "id": "GIbXq-JDT6Jb"
   },
   "outputs": [],
   "source": [
    "def get_batches(arr, batch_size, seq_length):\n",
    "    '''Create a generator that returns batches of size\n",
    "       batch_size x seq_length from arr.\n",
    "       \n",
    "       Arguments\n",
    "       ---------\n",
    "       arr: Array you want to make batches from\n",
    "       batch_size: Batch size, the number of sequences per batch\n",
    "       seq_length: Number of encoded chars in a sequence\n",
    "    '''\n",
    "    \n",
    "    ## Get the number of batches we can make\n",
    "    n_batches = int(len(arr) / (batch_size * seq_length))\n",
    "    \n",
    "    ## Keep only enough characters to make full batches\n",
    "    arr = arr[:batch_size * n_batches * seq_length]\n",
    "    \n",
    "    ## Reshape into batch_size rows\n",
    "    arr = arr.reshape((batch_size, -1))\n",
    "    \n",
    "    ## Iterate over the batches using a window of size seq_length\n",
    "    for n in range(0, arr.shape[1], seq_length):\n",
    "        # The features\n",
    "        x = arr[:, n:n+seq_length]\n",
    "        # The targets, shifted by one\n",
    "        y = np.zeros_like(x)\n",
    "        try:\n",
    "            y[:, :-1], y[:, -1] = x[:, 1:], arr[:, n+seq_length]\n",
    "        except IndexError:\n",
    "            y[:, :-1], y[:, -1] = x[:, 1:], x[:, 0]\n",
    "        yield x, y"
   ]
  },
  {
   "cell_type": "markdown",
   "metadata": {
    "colab_type": "text",
    "id": "tpoqpl-rT6Jh"
   },
   "source": [
    "### Test Your Implementation\n",
    "\n",
    "Now I'll make some data sets and we can check out what's going on as we batch data. Here, as an example, I'm going to use a batch size of 8 and 50 sequence steps."
   ]
  },
  {
   "cell_type": "code",
   "execution_count": 0,
   "metadata": {
    "colab": {},
    "colab_type": "code",
    "id": "fsYiU62CT6Ji"
   },
   "outputs": [],
   "source": [
    "batches = get_batches(encoded, 8, 50)\n",
    "x, y = next(batches)"
   ]
  },
  {
   "cell_type": "code",
   "execution_count": 10,
   "metadata": {
    "colab": {
     "base_uri": "https://localhost:8080/",
     "height": 340
    },
    "colab_type": "code",
    "id": "P-UR2S-QT6J6",
    "outputId": "490f10f1-00fd-44ba-a2cc-6403235f2719"
   },
   "outputs": [
    {
     "name": "stdout",
     "output_type": "stream",
     "text": [
      "x\n",
      " [[11 15 69  3  7 49 22  4 41 57]\n",
      " [39 44 16  4  7 15 69  7  4 69]\n",
      " [49 16 43  4 44 22  4 69  4 73]\n",
      " [39  4  7 15 49  4 72 15 63 49]\n",
      " [ 4 39 69 76  4 15 49 22  4  7]\n",
      " [72 65 39 39 63 44 16  4 69 16]\n",
      " [ 4 77 16 16 69  4 15 69 43  4]\n",
      " [ 5 20 64 44 16 39 10 29 46  4]]\n",
      "\n",
      "y\n",
      " [[15 69  3  7 49 22  4 41 57 57]\n",
      " [44 16  4  7 15 69  7  4 69  7]\n",
      " [16 43  4 44 22  4 69  4 73 44]\n",
      " [ 4  7 15 49  4 72 15 63 49 73]\n",
      " [39 69 76  4 15 49 22  4  7 49]\n",
      " [65 39 39 63 44 16  4 69 16 43]\n",
      " [77 16 16 69  4 15 69 43  4 39]\n",
      " [20 64 44 16 39 10 29 46  4 75]]\n"
     ]
    }
   ],
   "source": [
    "# printing out the first 10 items in a sequence\n",
    "print('x\\n', x[:10, :10])\n",
    "print('\\ny\\n', y[:10, :10])"
   ]
  },
  {
   "cell_type": "markdown",
   "metadata": {
    "colab_type": "text",
    "id": "ueDBK545T6KF"
   },
   "source": [
    "If you implemented `get_batches` correctly, the above output should look something like \n",
    "```\n",
    "x\n",
    " [[25  8 60 11 45 27 28 73  1  2]\n",
    " [17  7 20 73 45  8 60 45 73 60]\n",
    " [27 20 80 73  7 28 73 60 73 65]\n",
    " [17 73 45  8 27 73 66  8 46 27]\n",
    " [73 17 60 12 73  8 27 28 73 45]\n",
    " [66 64 17 17 46  7 20 73 60 20]\n",
    " [73 76 20 20 60 73  8 60 80 73]\n",
    " [47 35 43  7 20 17 24 50 37 73]]\n",
    "\n",
    "y\n",
    " [[ 8 60 11 45 27 28 73  1  2  2]\n",
    " [ 7 20 73 45  8 60 45 73 60 45]\n",
    " [20 80 73  7 28 73 60 73 65  7]\n",
    " [73 45  8 27 73 66  8 46 27 65]\n",
    " [17 60 12 73  8 27 28 73 45 27]\n",
    " [64 17 17 46  7 20 73 60 20 80]\n",
    " [76 20 20 60 73  8 60 80 73 17]\n",
    " [35 43  7 20 17 24 50 37 73 36]]\n",
    " ```\n",
    " although the exact numbers may be different. Check to make sure the data is shifted over one step for `y`."
   ]
  },
  {
   "cell_type": "markdown",
   "metadata": {
    "colab_type": "text",
    "id": "m6fQOypyT6KG"
   },
   "source": [
    "---\n",
    "## Defining the network with PyTorch\n",
    "\n",
    "Below is where you'll define the network.\n",
    "\n",
    "<img src=\"assets/charRNN.png\" width=500px>\n",
    "\n",
    "Next, you'll use PyTorch to define the architecture of the network. We start by defining the layers and operations we want. Then, define a method for the forward pass. You've also been given a method for predicting characters."
   ]
  },
  {
   "cell_type": "markdown",
   "metadata": {
    "colab_type": "text",
    "id": "IxVn7xowT6KI"
   },
   "source": [
    "### Model Structure\n",
    "\n",
    "In `__init__` the suggested structure is as follows:\n",
    "* Create and store the necessary dictionaries (this has been done for you)\n",
    "* Define an LSTM layer that takes as params: an input size (the number of characters), a hidden layer size `n_hidden`, a number of layers `n_layers`, a dropout probability `drop_prob`, and a batch_first boolean (True, since we are batching)\n",
    "* Define a dropout layer with `drop_prob`\n",
    "* Define a fully-connected layer with params: input size `n_hidden` and output size (the number of characters)\n",
    "* Finally, initialize the weights (again, this has been given)\n",
    "\n",
    "Note that some parameters have been named and given in the `__init__` function, and we use them and store them by doing something like `self.drop_prob = drop_prob`."
   ]
  },
  {
   "cell_type": "markdown",
   "metadata": {
    "colab_type": "text",
    "id": "pska44zQT6KJ"
   },
   "source": [
    "---\n",
    "### LSTM Inputs/Outputs\n",
    "\n",
    "You can create a basic [LSTM layer](https://pytorch.org/docs/stable/nn.html#lstm) as follows\n",
    "\n",
    "```python\n",
    "self.lstm = nn.LSTM(input_size, n_hidden, n_layers, \n",
    "                            dropout=drop_prob, batch_first=True)\n",
    "```\n",
    "\n",
    "where `input_size` is the number of characters this cell expects to see as sequential input, and `n_hidden` is the number of units in the hidden layers in the cell. And we can add dropout by adding a dropout parameter with a specified probability; this will automatically add dropout to the inputs or outputs. Finally, in the `forward` function, we can stack up the LSTM cells into layers using `.view`. With this, you pass in a list of cells and it will send the output of one cell into the next cell.\n",
    "\n",
    "We also need to create an initial hidden state of all zeros. This is done like so\n",
    "\n",
    "```python\n",
    "self.init_hidden()\n",
    "```"
   ]
  },
  {
   "cell_type": "code",
   "execution_count": 11,
   "metadata": {
    "colab": {
     "base_uri": "https://localhost:8080/",
     "height": 34
    },
    "colab_type": "code",
    "id": "L7bJyZNKT6KK",
    "outputId": "c84921b2-e788-4ff3-f477-0e8313b41309"
   },
   "outputs": [
    {
     "name": "stdout",
     "output_type": "stream",
     "text": [
      "Training on GPU!\n"
     ]
    }
   ],
   "source": [
    "# check if GPU is available\n",
    "train_on_gpu = torch.cuda.is_available()\n",
    "if(train_on_gpu):\n",
    "    print('Training on GPU!')\n",
    "else: \n",
    "    print('No GPU available, training on CPU; consider making n_epochs very small.')"
   ]
  },
  {
   "cell_type": "code",
   "execution_count": 0,
   "metadata": {
    "colab": {},
    "colab_type": "code",
    "id": "Uz2SQ0pvT6KQ"
   },
   "outputs": [],
   "source": [
    "class CharRNN(nn.Module):\n",
    "    \n",
    "    def __init__(self, tokens, n_hidden=256, n_layers=2,\n",
    "                               drop_prob=0.5, lr=0.001):\n",
    "        super().__init__()\n",
    "        self.drop_prob = drop_prob\n",
    "        self.n_layers = n_layers\n",
    "        self.n_hidden = n_hidden\n",
    "        self.lr = lr\n",
    "        \n",
    "        # creating character dictionaries\n",
    "        self.chars = tokens\n",
    "        self.int2char = dict(enumerate(self.chars))\n",
    "        self.char2int = {ch: ii for ii, ch in self.int2char.items()}\n",
    "        \n",
    "        # Number of inputs\n",
    "        n_input = len(self.chars)\n",
    "        \n",
    "        ## Define the layers of the model\n",
    "        \n",
    "        # Define an LSTM layer\n",
    "        self.lstm = nn.LSTM(n_input, n_hidden, n_layers, dropout=drop_prob, batch_first=True)\n",
    "        \n",
    "        # Define a dropout layer\n",
    "        self.dropout = nn.Dropout(drop_prob)\n",
    "        \n",
    "        # Define a fully-connected layer\n",
    "        self.fc = nn.Linear(n_hidden, n_input)\n",
    "        \n",
    "        \n",
    "    \n",
    "    def forward(self, x, hidden):\n",
    "        ''' Forward pass through the network. \n",
    "            These inputs are x, and the hidden/cell state `hidden`. '''\n",
    "                \n",
    "        ## Get the outputs and the new hidden state from the lstm\n",
    "        lstm_outputs, hidden = self.lstm(x, hidden)\n",
    "        out = self.dropout(lstm_outputs)\n",
    "        out = out.contiguous().view(-1, self.n_hidden)\n",
    "        out = self.fc(out)\n",
    "                            \n",
    "        # return the final output and the hidden state\n",
    "        return out, hidden\n",
    "    \n",
    "    \n",
    "    def init_hidden(self, batch_size):\n",
    "        ''' Initializes hidden state '''\n",
    "        # Create two new tensors with sizes n_layers x batch_size x n_hidden,\n",
    "        # initialized to zero, for hidden state and cell state of LSTM\n",
    "        weight = next(self.parameters()).data\n",
    "        \n",
    "        if (train_on_gpu):\n",
    "            hidden = (weight.new(self.n_layers, batch_size, self.n_hidden).zero_().cuda(),\n",
    "                  weight.new(self.n_layers, batch_size, self.n_hidden).zero_().cuda())\n",
    "        else:\n",
    "            hidden = (weight.new(self.n_layers, batch_size, self.n_hidden).zero_(),\n",
    "                      weight.new(self.n_layers, batch_size, self.n_hidden).zero_())\n",
    "        \n",
    "        return hidden\n",
    "        "
   ]
  },
  {
   "cell_type": "markdown",
   "metadata": {
    "colab_type": "text",
    "id": "q090ipXsT6KV"
   },
   "source": [
    "## Time to train\n",
    "\n",
    "The train function gives us the ability to set the number of epochs, the learning rate, and other parameters.\n",
    "\n",
    "Below we're using an Adam optimizer and cross entropy loss since we are looking at character class scores as output. We calculate the loss and perform backpropagation, as usual!\n",
    "\n",
    "A couple of details about training: \n",
    ">* Within the batch loop, we detach the hidden state from its history; this time setting it equal to a new *tuple* variable because an LSTM has a hidden state that is a tuple of the hidden and cell states.\n",
    "* We use [`clip_grad_norm_`](https://pytorch.org/docs/stable/_modules/torch/nn/utils/clip_grad.html) to help prevent exploding gradients."
   ]
  },
  {
   "cell_type": "code",
   "execution_count": 0,
   "metadata": {
    "colab": {},
    "colab_type": "code",
    "id": "EEHRi8FtT6KW"
   },
   "outputs": [],
   "source": [
    "def train(net, data, epochs=10, batch_size=10, seq_length=50, lr=0.001, clip=5, val_frac=0.1, print_every=10):\n",
    "    ''' Training a network \n",
    "    \n",
    "        Arguments\n",
    "        ---------\n",
    "        \n",
    "        net: CharRNN network\n",
    "        data: text data to train the network\n",
    "        epochs: Number of epochs to train\n",
    "        batch_size: Number of mini-sequences per mini-batch, aka batch size\n",
    "        seq_length: Number of character steps per mini-batch\n",
    "        lr: learning rate\n",
    "        clip: gradient clipping\n",
    "        val_frac: Fraction of data to hold out for validation\n",
    "        print_every: Number of steps for printing training and validation loss\n",
    "    \n",
    "    '''\n",
    "    net.train()\n",
    "    \n",
    "    opt = torch.optim.Adam(net.parameters(), lr=lr)\n",
    "    criterion = nn.CrossEntropyLoss()\n",
    "    \n",
    "    # create training and validation data\n",
    "    val_idx = int(len(data)*(1-val_frac))\n",
    "    data, val_data = data[:val_idx], data[val_idx:]\n",
    "    \n",
    "    if(train_on_gpu):\n",
    "        net.cuda()\n",
    "    \n",
    "    counter = 0\n",
    "    n_chars = len(net.chars)\n",
    "    for e in range(epochs):\n",
    "        # initialize hidden state\n",
    "        h = net.init_hidden(batch_size)\n",
    "        \n",
    "        for x, y in get_batches(data, batch_size, seq_length):\n",
    "            counter += 1\n",
    "            \n",
    "            # One-hot encode our data and make them Torch tensors\n",
    "            x = one_hot_encode(x, n_chars)\n",
    "            inputs, targets = torch.from_numpy(x), torch.from_numpy(y)\n",
    "            \n",
    "            if(train_on_gpu):\n",
    "                inputs, targets = inputs.cuda(), targets.cuda()\n",
    "\n",
    "            # Creating new variables for the hidden state, otherwise\n",
    "            # we'd backprop through the entire training history\n",
    "            h = tuple([each.data for each in h])\n",
    "\n",
    "            # zero accumulated gradients\n",
    "            net.zero_grad()\n",
    "            \n",
    "            # get the output from the model\n",
    "            output, h = net(inputs, h)\n",
    "            \n",
    "            # calculate the loss and perform backprop\n",
    "            loss = criterion(output, targets.view(batch_size*seq_length).long())\n",
    "            loss.backward()\n",
    "            # `clip_grad_norm` helps prevent the exploding gradient problem in RNNs / LSTMs.\n",
    "            nn.utils.clip_grad_norm_(net.parameters(), clip)\n",
    "            opt.step()\n",
    "            \n",
    "            # loss stats\n",
    "            if counter % print_every == 0:\n",
    "                # Get validation loss\n",
    "                val_h = net.init_hidden(batch_size)\n",
    "                val_losses = []\n",
    "                net.eval()\n",
    "                for x, y in get_batches(val_data, batch_size, seq_length):\n",
    "                    # One-hot encode our data and make them Torch tensors\n",
    "                    x = one_hot_encode(x, n_chars)\n",
    "                    x, y = torch.from_numpy(x), torch.from_numpy(y)\n",
    "                    \n",
    "                    # Creating new variables for the hidden state, otherwise\n",
    "                    # we'd backprop through the entire training history\n",
    "                    val_h = tuple([each.data for each in val_h])\n",
    "                    \n",
    "                    inputs, targets = x, y\n",
    "                    if(train_on_gpu):\n",
    "                        inputs, targets = inputs.cuda(), targets.cuda()\n",
    "\n",
    "                    output, val_h = net(inputs, val_h)\n",
    "                    val_loss = criterion(output, targets.view(batch_size*seq_length).long())\n",
    "                \n",
    "                    val_losses.append(val_loss.item())\n",
    "                \n",
    "                net.train() # reset to train mode after iterationg through validation data\n",
    "                \n",
    "                print(\"Epoch: {}/{}...\".format(e+1, epochs),\n",
    "                      \"Step: {}...\".format(counter),\n",
    "                      \"Loss: {:.4f}...\".format(loss.item()),\n",
    "                      \"Val Loss: {:.4f}\".format(np.mean(val_losses)))"
   ]
  },
  {
   "cell_type": "markdown",
   "metadata": {
    "colab_type": "text",
    "id": "s6mKsi83T6Kc"
   },
   "source": [
    "## Instantiating the model\n",
    "\n",
    "Now we can actually train the network. First we'll create the network itself, with some given hyperparameters. Then, define the mini-batches sizes, and start training!"
   ]
  },
  {
   "cell_type": "code",
   "execution_count": 14,
   "metadata": {
    "colab": {
     "base_uri": "https://localhost:8080/",
     "height": 102
    },
    "colab_type": "code",
    "id": "BDY8OjYwT6Kf",
    "outputId": "61c70e8b-4a6f-4ed4-aa8c-a653ef880828"
   },
   "outputs": [
    {
     "name": "stdout",
     "output_type": "stream",
     "text": [
      "CharRNN(\n",
      "  (lstm): LSTM(83, 664, num_layers=2, batch_first=True, dropout=0.5)\n",
      "  (dropout): Dropout(p=0.5, inplace=False)\n",
      "  (fc): Linear(in_features=664, out_features=83, bias=True)\n",
      ")\n"
     ]
    }
   ],
   "source": [
    "## Set model hyperparameters\n",
    "# define and print the net\n",
    "n_hidden= 664\n",
    "n_layers= 2\n",
    "\n",
    "net = CharRNN(chars, n_hidden, n_layers)\n",
    "print(net)"
   ]
  },
  {
   "cell_type": "markdown",
   "metadata": {
    "colab_type": "text",
    "id": "Zv7zA7XvT6Ko"
   },
   "source": [
    "### Set your training hyperparameters!"
   ]
  },
  {
   "cell_type": "code",
   "execution_count": 15,
   "metadata": {
    "colab": {
     "base_uri": "https://localhost:8080/",
     "height": 1000
    },
    "colab_type": "code",
    "id": "qDR6z8bpT6Kp",
    "outputId": "a7b83ffa-62eb-405e-a2fe-b5208eb00ad0",
    "scrolled": true
   },
   "outputs": [
    {
     "name": "stdout",
     "output_type": "stream",
     "text": [
      "Epoch: 1/30... Step: 10... Loss: 3.2712... Val Loss: 3.2007\n",
      "Epoch: 1/30... Step: 20... Loss: 3.1455... Val Loss: 3.1138\n",
      "Epoch: 1/30... Step: 30... Loss: 3.1306... Val Loss: 3.1077\n",
      "Epoch: 1/30... Step: 40... Loss: 3.1241... Val Loss: 3.0994\n",
      "Epoch: 1/30... Step: 50... Loss: 3.1195... Val Loss: 3.0965\n",
      "Epoch: 1/30... Step: 60... Loss: 3.1131... Val Loss: 3.0917\n",
      "Epoch: 1/30... Step: 70... Loss: 3.1102... Val Loss: 3.0840\n",
      "Epoch: 1/30... Step: 80... Loss: 3.0849... Val Loss: 3.0643\n",
      "Epoch: 1/30... Step: 90... Loss: 3.0376... Val Loss: 3.0063\n",
      "Epoch: 1/30... Step: 100... Loss: 2.9592... Val Loss: 2.9180\n",
      "Epoch: 2/30... Step: 110... Loss: 2.9356... Val Loss: 2.8967\n",
      "Epoch: 2/30... Step: 120... Loss: 2.8121... Val Loss: 2.7638\n",
      "Epoch: 2/30... Step: 130... Loss: 2.7229... Val Loss: 2.6563\n",
      "Epoch: 2/30... Step: 140... Loss: 2.6019... Val Loss: 2.5389\n",
      "Epoch: 2/30... Step: 150... Loss: 2.5317... Val Loss: 2.4704\n",
      "Epoch: 2/30... Step: 160... Loss: 2.4575... Val Loss: 2.4198\n",
      "Epoch: 2/30... Step: 170... Loss: 2.4382... Val Loss: 2.3824\n",
      "Epoch: 2/30... Step: 180... Loss: 2.3977... Val Loss: 2.3404\n",
      "Epoch: 2/30... Step: 190... Loss: 2.3404... Val Loss: 2.3032\n",
      "Epoch: 2/30... Step: 200... Loss: 2.3180... Val Loss: 2.2755\n",
      "Epoch: 2/30... Step: 210... Loss: 2.3314... Val Loss: 2.2874\n",
      "Epoch: 3/30... Step: 220... Loss: 2.3187... Val Loss: 2.2299\n",
      "Epoch: 3/30... Step: 230... Loss: 2.2379... Val Loss: 2.1918\n",
      "Epoch: 3/30... Step: 240... Loss: 2.1963... Val Loss: 2.1583\n",
      "Epoch: 3/30... Step: 250... Loss: 2.1702... Val Loss: 2.1271\n",
      "Epoch: 3/30... Step: 260... Loss: 2.1540... Val Loss: 2.0977\n",
      "Epoch: 3/30... Step: 270... Loss: 2.1311... Val Loss: 2.0739\n",
      "Epoch: 3/30... Step: 280... Loss: 2.0717... Val Loss: 2.0401\n",
      "Epoch: 3/30... Step: 290... Loss: 2.0581... Val Loss: 2.0167\n",
      "Epoch: 3/30... Step: 300... Loss: 2.0450... Val Loss: 1.9877\n",
      "Epoch: 3/30... Step: 310... Loss: 2.0298... Val Loss: 1.9634\n",
      "Epoch: 3/30... Step: 320... Loss: 1.9993... Val Loss: 1.9418\n",
      "Epoch: 4/30... Step: 330... Loss: 2.0073... Val Loss: 1.9155\n",
      "Epoch: 4/30... Step: 340... Loss: 2.0072... Val Loss: 1.8944\n",
      "Epoch: 4/30... Step: 350... Loss: 1.9219... Val Loss: 1.8753\n",
      "Epoch: 4/30... Step: 360... Loss: 1.9069... Val Loss: 1.8527\n",
      "Epoch: 4/30... Step: 370... Loss: 1.9029... Val Loss: 1.8302\n",
      "Epoch: 4/30... Step: 380... Loss: 1.8621... Val Loss: 1.8125\n",
      "Epoch: 4/30... Step: 390... Loss: 1.8634... Val Loss: 1.7928\n",
      "Epoch: 4/30... Step: 400... Loss: 1.8519... Val Loss: 1.7820\n",
      "Epoch: 4/30... Step: 410... Loss: 1.8285... Val Loss: 1.7649\n",
      "Epoch: 4/30... Step: 420... Loss: 1.8360... Val Loss: 1.7429\n",
      "Epoch: 5/30... Step: 430... Loss: 1.7844... Val Loss: 1.7299\n",
      "Epoch: 5/30... Step: 440... Loss: 1.7548... Val Loss: 1.7172\n",
      "Epoch: 5/30... Step: 450... Loss: 1.7900... Val Loss: 1.7017\n",
      "Epoch: 5/30... Step: 460... Loss: 1.7774... Val Loss: 1.6846\n",
      "Epoch: 5/30... Step: 470... Loss: 1.7363... Val Loss: 1.6750\n",
      "Epoch: 5/30... Step: 480... Loss: 1.7358... Val Loss: 1.6641\n",
      "Epoch: 5/30... Step: 490... Loss: 1.6934... Val Loss: 1.6572\n",
      "Epoch: 5/30... Step: 500... Loss: 1.7396... Val Loss: 1.6416\n",
      "Epoch: 5/30... Step: 510... Loss: 1.6823... Val Loss: 1.6328\n",
      "Epoch: 5/30... Step: 520... Loss: 1.6787... Val Loss: 1.6190\n",
      "Epoch: 5/30... Step: 530... Loss: 1.7004... Val Loss: 1.6137\n",
      "Epoch: 6/30... Step: 540... Loss: 1.6855... Val Loss: 1.5985\n",
      "Epoch: 6/30... Step: 550... Loss: 1.6459... Val Loss: 1.5908\n",
      "Epoch: 6/30... Step: 560... Loss: 1.6440... Val Loss: 1.5824\n",
      "Epoch: 6/30... Step: 570... Loss: 1.6615... Val Loss: 1.5712\n",
      "Epoch: 6/30... Step: 580... Loss: 1.6423... Val Loss: 1.5641\n",
      "Epoch: 6/30... Step: 590... Loss: 1.6092... Val Loss: 1.5591\n",
      "Epoch: 6/30... Step: 600... Loss: 1.6312... Val Loss: 1.5486\n",
      "Epoch: 6/30... Step: 610... Loss: 1.6053... Val Loss: 1.5419\n",
      "Epoch: 6/30... Step: 620... Loss: 1.6064... Val Loss: 1.5337\n",
      "Epoch: 6/30... Step: 630... Loss: 1.6214... Val Loss: 1.5263\n",
      "Epoch: 6/30... Step: 640... Loss: 1.6010... Val Loss: 1.5189\n",
      "Epoch: 7/30... Step: 650... Loss: 1.5639... Val Loss: 1.5122\n",
      "Epoch: 7/30... Step: 660... Loss: 1.5940... Val Loss: 1.5046\n",
      "Epoch: 7/30... Step: 670... Loss: 1.5453... Val Loss: 1.4969\n",
      "Epoch: 7/30... Step: 680... Loss: 1.5725... Val Loss: 1.4923\n",
      "Epoch: 7/30... Step: 690... Loss: 1.5570... Val Loss: 1.4854\n",
      "Epoch: 7/30... Step: 700... Loss: 1.5355... Val Loss: 1.4834\n",
      "Epoch: 7/30... Step: 710... Loss: 1.5079... Val Loss: 1.4743\n",
      "Epoch: 7/30... Step: 720... Loss: 1.5191... Val Loss: 1.4694\n",
      "Epoch: 7/30... Step: 730... Loss: 1.5163... Val Loss: 1.4640\n",
      "Epoch: 7/30... Step: 740... Loss: 1.5146... Val Loss: 1.4596\n",
      "Epoch: 8/30... Step: 750... Loss: 1.5590... Val Loss: 1.4584\n",
      "Epoch: 8/30... Step: 760... Loss: 1.4755... Val Loss: 1.4506\n",
      "Epoch: 8/30... Step: 770... Loss: 1.5110... Val Loss: 1.4433\n",
      "Epoch: 8/30... Step: 780... Loss: 1.4834... Val Loss: 1.4402\n",
      "Epoch: 8/30... Step: 790... Loss: 1.5054... Val Loss: 1.4342\n",
      "Epoch: 8/30... Step: 800... Loss: 1.4670... Val Loss: 1.4306\n",
      "Epoch: 8/30... Step: 810... Loss: 1.4705... Val Loss: 1.4245\n",
      "Epoch: 8/30... Step: 820... Loss: 1.4741... Val Loss: 1.4203\n",
      "Epoch: 8/30... Step: 830... Loss: 1.4855... Val Loss: 1.4178\n",
      "Epoch: 8/30... Step: 840... Loss: 1.4685... Val Loss: 1.4126\n",
      "Epoch: 8/30... Step: 850... Loss: 1.4703... Val Loss: 1.4087\n",
      "Epoch: 9/30... Step: 860... Loss: 1.4497... Val Loss: 1.4047\n",
      "Epoch: 9/30... Step: 870... Loss: 1.4161... Val Loss: 1.4037\n",
      "Epoch: 9/30... Step: 880... Loss: 1.4415... Val Loss: 1.3954\n",
      "Epoch: 9/30... Step: 890... Loss: 1.4341... Val Loss: 1.3934\n",
      "Epoch: 9/30... Step: 900... Loss: 1.4339... Val Loss: 1.3902\n",
      "Epoch: 9/30... Step: 910... Loss: 1.4270... Val Loss: 1.3870\n",
      "Epoch: 9/30... Step: 920... Loss: 1.4364... Val Loss: 1.3832\n",
      "Epoch: 9/30... Step: 930... Loss: 1.4376... Val Loss: 1.3828\n",
      "Epoch: 9/30... Step: 940... Loss: 1.4306... Val Loss: 1.3779\n",
      "Epoch: 9/30... Step: 950... Loss: 1.4145... Val Loss: 1.3734\n",
      "Epoch: 9/30... Step: 960... Loss: 1.4419... Val Loss: 1.3701\n",
      "Epoch: 10/30... Step: 970... Loss: 1.4218... Val Loss: 1.3664\n",
      "Epoch: 10/30... Step: 980... Loss: 1.3770... Val Loss: 1.3636\n",
      "Epoch: 10/30... Step: 990... Loss: 1.3784... Val Loss: 1.3617\n",
      "Epoch: 10/30... Step: 1000... Loss: 1.4013... Val Loss: 1.3597\n",
      "Epoch: 10/30... Step: 1010... Loss: 1.3767... Val Loss: 1.3573\n",
      "Epoch: 10/30... Step: 1020... Loss: 1.4156... Val Loss: 1.3539\n",
      "Epoch: 10/30... Step: 1030... Loss: 1.3998... Val Loss: 1.3487\n",
      "Epoch: 10/30... Step: 1040... Loss: 1.3883... Val Loss: 1.3465\n",
      "Epoch: 10/30... Step: 1050... Loss: 1.3709... Val Loss: 1.3441\n",
      "Epoch: 10/30... Step: 1060... Loss: 1.3980... Val Loss: 1.3433\n",
      "Epoch: 10/30... Step: 1070... Loss: 1.4252... Val Loss: 1.3387\n",
      "Epoch: 11/30... Step: 1080... Loss: 1.3716... Val Loss: 1.3380\n",
      "Epoch: 11/30... Step: 1090... Loss: 1.3721... Val Loss: 1.3338\n",
      "Epoch: 11/30... Step: 1100... Loss: 1.3819... Val Loss: 1.3349\n",
      "Epoch: 11/30... Step: 1110... Loss: 1.3653... Val Loss: 1.3334\n",
      "Epoch: 11/30... Step: 1120... Loss: 1.3719... Val Loss: 1.3275\n",
      "Epoch: 11/30... Step: 1130... Loss: 1.3685... Val Loss: 1.3285\n",
      "Epoch: 11/30... Step: 1140... Loss: 1.3657... Val Loss: 1.3246\n",
      "Epoch: 11/30... Step: 1150... Loss: 1.3542... Val Loss: 1.3218\n",
      "Epoch: 11/30... Step: 1160... Loss: 1.3731... Val Loss: 1.3195\n",
      "Epoch: 11/30... Step: 1170... Loss: 1.3443... Val Loss: 1.3154\n",
      "Epoch: 12/30... Step: 1180... Loss: 1.3733... Val Loss: 1.3191\n",
      "Epoch: 12/30... Step: 1190... Loss: 1.3209... Val Loss: 1.3159\n",
      "Epoch: 12/30... Step: 1200... Loss: 1.3397... Val Loss: 1.3114\n",
      "Epoch: 12/30... Step: 1210... Loss: 1.3430... Val Loss: 1.3119\n",
      "Epoch: 12/30... Step: 1220... Loss: 1.3625... Val Loss: 1.3122\n",
      "Epoch: 12/30... Step: 1230... Loss: 1.3285... Val Loss: 1.3070\n",
      "Epoch: 12/30... Step: 1240... Loss: 1.3188... Val Loss: 1.3031\n",
      "Epoch: 12/30... Step: 1250... Loss: 1.3108... Val Loss: 1.3039\n",
      "Epoch: 12/30... Step: 1260... Loss: 1.2978... Val Loss: 1.3007\n",
      "Epoch: 12/30... Step: 1270... Loss: 1.3237... Val Loss: 1.2983\n",
      "Epoch: 12/30... Step: 1280... Loss: 1.3273... Val Loss: 1.2958\n",
      "Epoch: 13/30... Step: 1290... Loss: 1.3578... Val Loss: 1.2953\n",
      "Epoch: 13/30... Step: 1300... Loss: 1.3256... Val Loss: 1.2949\n",
      "Epoch: 13/30... Step: 1310... Loss: 1.3111... Val Loss: 1.2944\n",
      "Epoch: 13/30... Step: 1320... Loss: 1.3051... Val Loss: 1.2913\n",
      "Epoch: 13/30... Step: 1330... Loss: 1.3110... Val Loss: 1.2890\n",
      "Epoch: 13/30... Step: 1340... Loss: 1.3178... Val Loss: 1.2892\n",
      "Epoch: 13/30... Step: 1350... Loss: 1.3025... Val Loss: 1.2885\n",
      "Epoch: 13/30... Step: 1360... Loss: 1.3043... Val Loss: 1.2833\n",
      "Epoch: 13/30... Step: 1370... Loss: 1.2930... Val Loss: 1.2819\n",
      "Epoch: 13/30... Step: 1380... Loss: 1.3272... Val Loss: 1.2894\n",
      "Epoch: 13/30... Step: 1390... Loss: 1.2945... Val Loss: 1.2820\n",
      "Epoch: 14/30... Step: 1400... Loss: 1.3160... Val Loss: 1.2808\n",
      "Epoch: 14/30... Step: 1410... Loss: 1.3404... Val Loss: 1.2807\n",
      "Epoch: 14/30... Step: 1420... Loss: 1.2772... Val Loss: 1.2789\n",
      "Epoch: 14/30... Step: 1430... Loss: 1.2945... Val Loss: 1.2760\n",
      "Epoch: 14/30... Step: 1440... Loss: 1.3057... Val Loss: 1.2729\n",
      "Epoch: 14/30... Step: 1450... Loss: 1.2787... Val Loss: 1.2739\n",
      "Epoch: 14/30... Step: 1460... Loss: 1.2902... Val Loss: 1.2699\n",
      "Epoch: 14/30... Step: 1470... Loss: 1.2698... Val Loss: 1.2684\n",
      "Epoch: 14/30... Step: 1480... Loss: 1.2821... Val Loss: 1.2677\n",
      "Epoch: 14/30... Step: 1490... Loss: 1.3005... Val Loss: 1.2653\n",
      "Epoch: 15/30... Step: 1500... Loss: 1.2733... Val Loss: 1.2686\n",
      "Epoch: 15/30... Step: 1510... Loss: 1.2579... Val Loss: 1.2617\n",
      "Epoch: 15/30... Step: 1520... Loss: 1.2912... Val Loss: 1.2622\n",
      "Epoch: 15/30... Step: 1530... Loss: 1.2963... Val Loss: 1.2628\n",
      "Epoch: 15/30... Step: 1540... Loss: 1.2651... Val Loss: 1.2595\n",
      "Epoch: 15/30... Step: 1550... Loss: 1.2802... Val Loss: 1.2625\n",
      "Epoch: 15/30... Step: 1560... Loss: 1.2474... Val Loss: 1.2572\n",
      "Epoch: 15/30... Step: 1570... Loss: 1.2959... Val Loss: 1.2543\n",
      "Epoch: 15/30... Step: 1580... Loss: 1.2483... Val Loss: 1.2539\n",
      "Epoch: 15/30... Step: 1590... Loss: 1.2725... Val Loss: 1.2540\n",
      "Epoch: 15/30... Step: 1600... Loss: 1.2983... Val Loss: 1.2493\n",
      "Epoch: 16/30... Step: 1610... Loss: 1.2681... Val Loss: 1.2554\n",
      "Epoch: 16/30... Step: 1620... Loss: 1.2673... Val Loss: 1.2507\n",
      "Epoch: 16/30... Step: 1630... Loss: 1.2478... Val Loss: 1.2478\n",
      "Epoch: 16/30... Step: 1640... Loss: 1.2659... Val Loss: 1.2424\n",
      "Epoch: 16/30... Step: 1650... Loss: 1.2605... Val Loss: 1.2431\n",
      "Epoch: 16/30... Step: 1660... Loss: 1.2518... Val Loss: 1.2399\n",
      "Epoch: 16/30... Step: 1670... Loss: 1.2693... Val Loss: 1.2439\n",
      "Epoch: 16/30... Step: 1680... Loss: 1.2556... Val Loss: 1.2421\n",
      "Epoch: 16/30... Step: 1690... Loss: 1.2450... Val Loss: 1.2398\n",
      "Epoch: 16/30... Step: 1700... Loss: 1.2664... Val Loss: 1.2337\n",
      "Epoch: 16/30... Step: 1710... Loss: 1.2482... Val Loss: 1.2341\n",
      "Epoch: 17/30... Step: 1720... Loss: 1.2236... Val Loss: 1.2370\n",
      "Epoch: 17/30... Step: 1730... Loss: 1.2541... Val Loss: 1.2298\n",
      "Epoch: 17/30... Step: 1740... Loss: 1.2296... Val Loss: 1.2451\n",
      "Epoch: 17/30... Step: 1750... Loss: 1.2611... Val Loss: 1.2304\n",
      "Epoch: 17/30... Step: 1760... Loss: 1.2467... Val Loss: 1.2279\n",
      "Epoch: 17/30... Step: 1770... Loss: 1.2268... Val Loss: 1.2256\n",
      "Epoch: 17/30... Step: 1780... Loss: 1.2097... Val Loss: 1.2310\n",
      "Epoch: 17/30... Step: 1790... Loss: 1.2213... Val Loss: 1.2253\n",
      "Epoch: 17/30... Step: 1800... Loss: 1.2139... Val Loss: 1.2287\n",
      "Epoch: 17/30... Step: 1810... Loss: 1.2325... Val Loss: 1.2266\n",
      "Epoch: 18/30... Step: 1820... Loss: 1.2942... Val Loss: 1.2220\n",
      "Epoch: 18/30... Step: 1830... Loss: 1.1937... Val Loss: 1.2238\n",
      "Epoch: 18/30... Step: 1840... Loss: 1.2344... Val Loss: 1.2172\n",
      "Epoch: 18/30... Step: 1850... Loss: 1.2184... Val Loss: 1.2265\n",
      "Epoch: 18/30... Step: 1860... Loss: 1.2154... Val Loss: 1.2268\n",
      "Epoch: 18/30... Step: 1870... Loss: 1.1964... Val Loss: 1.2163\n",
      "Epoch: 18/30... Step: 1880... Loss: 1.1982... Val Loss: 1.2204\n",
      "Epoch: 18/30... Step: 1890... Loss: 1.2214... Val Loss: 1.2178\n",
      "Epoch: 18/30... Step: 1900... Loss: 1.2124... Val Loss: 1.2181\n",
      "Epoch: 18/30... Step: 1910... Loss: 1.2056... Val Loss: 1.2158\n",
      "Epoch: 18/30... Step: 1920... Loss: 1.2295... Val Loss: 1.2115\n",
      "Epoch: 19/30... Step: 1930... Loss: 1.2134... Val Loss: 1.2159\n",
      "Epoch: 19/30... Step: 1940... Loss: 1.1872... Val Loss: 1.2101\n",
      "Epoch: 19/30... Step: 1950... Loss: 1.1947... Val Loss: 1.2090\n",
      "Epoch: 19/30... Step: 1960... Loss: 1.2072... Val Loss: 1.2133\n",
      "Epoch: 19/30... Step: 1970... Loss: 1.2101... Val Loss: 1.2225\n",
      "Epoch: 19/30... Step: 1980... Loss: 1.1927... Val Loss: 1.2185\n",
      "Epoch: 19/30... Step: 1990... Loss: 1.2115... Val Loss: 1.2121\n",
      "Epoch: 19/30... Step: 2000... Loss: 1.2012... Val Loss: 1.2111\n",
      "Epoch: 19/30... Step: 2010... Loss: 1.2092... Val Loss: 1.2135\n",
      "Epoch: 19/30... Step: 2020... Loss: 1.2001... Val Loss: 1.2075\n",
      "Epoch: 19/30... Step: 2030... Loss: 1.2164... Val Loss: 1.2074\n",
      "Epoch: 20/30... Step: 2040... Loss: 1.2042... Val Loss: 1.2108\n",
      "Epoch: 20/30... Step: 2050... Loss: 1.1674... Val Loss: 1.2035\n",
      "Epoch: 20/30... Step: 2060... Loss: 1.1703... Val Loss: 1.2059\n",
      "Epoch: 20/30... Step: 2070... Loss: 1.1927... Val Loss: 1.2055\n",
      "Epoch: 20/30... Step: 2080... Loss: 1.1809... Val Loss: 1.2065\n",
      "Epoch: 20/30... Step: 2090... Loss: 1.2014... Val Loss: 1.2015\n",
      "Epoch: 20/30... Step: 2100... Loss: 1.1787... Val Loss: 1.2026\n",
      "Epoch: 20/30... Step: 2110... Loss: 1.1929... Val Loss: 1.1968\n",
      "Epoch: 20/30... Step: 2120... Loss: 1.1768... Val Loss: 1.1962\n",
      "Epoch: 20/30... Step: 2130... Loss: 1.2013... Val Loss: 1.1977\n",
      "Epoch: 20/30... Step: 2140... Loss: 1.2361... Val Loss: 1.1973\n",
      "Epoch: 21/30... Step: 2150... Loss: 1.1668... Val Loss: 1.1963\n",
      "Epoch: 21/30... Step: 2160... Loss: 1.1757... Val Loss: 1.1960\n",
      "Epoch: 21/30... Step: 2170... Loss: 1.1887... Val Loss: 1.1966\n",
      "Epoch: 21/30... Step: 2180... Loss: 1.1792... Val Loss: 1.2189\n",
      "Epoch: 21/30... Step: 2190... Loss: 1.1818... Val Loss: 1.1957\n",
      "Epoch: 21/30... Step: 2200... Loss: 1.1802... Val Loss: 1.1961\n",
      "Epoch: 21/30... Step: 2210... Loss: 1.1915... Val Loss: 1.1930\n",
      "Epoch: 21/30... Step: 2220... Loss: 1.1813... Val Loss: 1.1960\n",
      "Epoch: 21/30... Step: 2230... Loss: 1.1853... Val Loss: 1.1944\n",
      "Epoch: 21/30... Step: 2240... Loss: 1.1586... Val Loss: 1.2013\n",
      "Epoch: 22/30... Step: 2250... Loss: 1.2025... Val Loss: 1.1982\n",
      "Epoch: 22/30... Step: 2260... Loss: 1.1549... Val Loss: 1.1942\n",
      "Epoch: 22/30... Step: 2270... Loss: 1.1609... Val Loss: 1.1943\n",
      "Epoch: 22/30... Step: 2280... Loss: 1.1790... Val Loss: 1.1973\n",
      "Epoch: 22/30... Step: 2290... Loss: 1.1851... Val Loss: 1.1961\n",
      "Epoch: 22/30... Step: 2300... Loss: 1.1652... Val Loss: 1.1903\n",
      "Epoch: 22/30... Step: 2310... Loss: 1.1492... Val Loss: 1.1922\n",
      "Epoch: 22/30... Step: 2320... Loss: 1.1506... Val Loss: 1.1937\n",
      "Epoch: 22/30... Step: 2330... Loss: 1.1463... Val Loss: 1.1905\n",
      "Epoch: 22/30... Step: 2340... Loss: 1.1688... Val Loss: 1.1888\n",
      "Epoch: 22/30... Step: 2350... Loss: 1.1688... Val Loss: 1.1855\n",
      "Epoch: 23/30... Step: 2360... Loss: 1.1797... Val Loss: 1.1859\n",
      "Epoch: 23/30... Step: 2370... Loss: 1.1675... Val Loss: 1.1862\n",
      "Epoch: 23/30... Step: 2380... Loss: 1.1547... Val Loss: 1.1850\n",
      "Epoch: 23/30... Step: 2390... Loss: 1.1582... Val Loss: 1.1881\n",
      "Epoch: 23/30... Step: 2400... Loss: 1.1585... Val Loss: 1.1898\n",
      "Epoch: 23/30... Step: 2410... Loss: 1.1738... Val Loss: 1.1850\n",
      "Epoch: 23/30... Step: 2420... Loss: 1.1428... Val Loss: 1.1841\n",
      "Epoch: 23/30... Step: 2430... Loss: 1.1512... Val Loss: 1.1839\n",
      "Epoch: 23/30... Step: 2440... Loss: 1.1393... Val Loss: 1.1865\n",
      "Epoch: 23/30... Step: 2450... Loss: 1.1683... Val Loss: 1.1829\n",
      "Epoch: 23/30... Step: 2460... Loss: 1.1438... Val Loss: 1.1822\n",
      "Epoch: 24/30... Step: 2470... Loss: 1.1547... Val Loss: 1.1859\n",
      "Epoch: 24/30... Step: 2480... Loss: 1.1856... Val Loss: 1.1825\n",
      "Epoch: 24/30... Step: 2490... Loss: 1.1297... Val Loss: 1.1852\n",
      "Epoch: 24/30... Step: 2500... Loss: 1.1553... Val Loss: 1.1818\n",
      "Epoch: 24/30... Step: 2510... Loss: 1.1649... Val Loss: 1.1808\n",
      "Epoch: 24/30... Step: 2520... Loss: 1.1275... Val Loss: 1.1828\n",
      "Epoch: 24/30... Step: 2530... Loss: 1.1571... Val Loss: 1.1801\n",
      "Epoch: 24/30... Step: 2540... Loss: 1.1367... Val Loss: 1.1803\n",
      "Epoch: 24/30... Step: 2550... Loss: 1.1403... Val Loss: 1.1809\n",
      "Epoch: 24/30... Step: 2560... Loss: 1.1583... Val Loss: 1.1832\n",
      "Epoch: 25/30... Step: 2570... Loss: 1.1296... Val Loss: 1.1835\n",
      "Epoch: 25/30... Step: 2580... Loss: 1.1110... Val Loss: 1.1817\n",
      "Epoch: 25/30... Step: 2590... Loss: 1.1412... Val Loss: 1.1803\n",
      "Epoch: 25/30... Step: 2600... Loss: 1.1585... Val Loss: 1.1817\n",
      "Epoch: 25/30... Step: 2610... Loss: 1.1360... Val Loss: 1.1885\n",
      "Epoch: 25/30... Step: 2620... Loss: 1.1495... Val Loss: 1.1815\n",
      "Epoch: 25/30... Step: 2630... Loss: 1.1142... Val Loss: 1.1783\n",
      "Epoch: 25/30... Step: 2640... Loss: 1.1526... Val Loss: 1.1733\n",
      "Epoch: 25/30... Step: 2650... Loss: 1.1303... Val Loss: 1.1750\n",
      "Epoch: 25/30... Step: 2660... Loss: 1.1403... Val Loss: 1.1786\n",
      "Epoch: 25/30... Step: 2670... Loss: 1.1693... Val Loss: 1.1826\n",
      "Epoch: 26/30... Step: 2680... Loss: 1.1356... Val Loss: 1.1775\n",
      "Epoch: 26/30... Step: 2690... Loss: 1.1380... Val Loss: 1.1737\n",
      "Epoch: 26/30... Step: 2700... Loss: 1.1294... Val Loss: 1.1763\n",
      "Epoch: 26/30... Step: 2710... Loss: 1.1405... Val Loss: 1.1784\n",
      "Epoch: 26/30... Step: 2720... Loss: 1.1389... Val Loss: 1.1774\n",
      "Epoch: 26/30... Step: 2730... Loss: 1.1312... Val Loss: 1.1757\n",
      "Epoch: 26/30... Step: 2740... Loss: 1.1435... Val Loss: 1.1720\n",
      "Epoch: 26/30... Step: 2750... Loss: 1.1320... Val Loss: 1.1726\n",
      "Epoch: 26/30... Step: 2760... Loss: 1.1170... Val Loss: 1.1750\n",
      "Epoch: 26/30... Step: 2770... Loss: 1.1484... Val Loss: 1.1715\n",
      "Epoch: 26/30... Step: 2780... Loss: 1.1169... Val Loss: 1.1698\n",
      "Epoch: 27/30... Step: 2790... Loss: 1.1174... Val Loss: 1.1730\n",
      "Epoch: 27/30... Step: 2800... Loss: 1.1450... Val Loss: 1.1740\n",
      "Epoch: 27/30... Step: 2810... Loss: 1.1147... Val Loss: 1.1724\n",
      "Epoch: 27/30... Step: 2820... Loss: 1.1454... Val Loss: 1.1726\n",
      "Epoch: 27/30... Step: 2830... Loss: 1.1333... Val Loss: 1.1774\n",
      "Epoch: 27/30... Step: 2840... Loss: 1.1205... Val Loss: 1.1740\n",
      "Epoch: 27/30... Step: 2850... Loss: 1.1011... Val Loss: 1.1743\n",
      "Epoch: 27/30... Step: 2860... Loss: 1.1152... Val Loss: 1.1737\n",
      "Epoch: 27/30... Step: 2870... Loss: 1.1097... Val Loss: 1.1703\n",
      "Epoch: 27/30... Step: 2880... Loss: 1.1271... Val Loss: 1.1678\n",
      "Epoch: 28/30... Step: 2890... Loss: 1.2089... Val Loss: 1.1771\n",
      "Epoch: 28/30... Step: 2900... Loss: 1.1000... Val Loss: 1.1794\n",
      "Epoch: 28/30... Step: 2910... Loss: 1.1289... Val Loss: 1.1778\n",
      "Epoch: 28/30... Step: 2920... Loss: 1.1090... Val Loss: 1.1756\n",
      "Epoch: 28/30... Step: 2930... Loss: 1.1098... Val Loss: 1.1693\n",
      "Epoch: 28/30... Step: 2940... Loss: 1.0956... Val Loss: 1.1706\n",
      "Epoch: 28/30... Step: 2950... Loss: 1.1130... Val Loss: 1.1696\n",
      "Epoch: 28/30... Step: 2960... Loss: 1.1183... Val Loss: 1.1698\n",
      "Epoch: 28/30... Step: 2970... Loss: 1.1085... Val Loss: 1.1672\n",
      "Epoch: 28/30... Step: 2980... Loss: 1.1023... Val Loss: 1.1679\n",
      "Epoch: 28/30... Step: 2990... Loss: 1.1223... Val Loss: 1.1704\n",
      "Epoch: 29/30... Step: 3000... Loss: 1.1193... Val Loss: 1.1712\n",
      "Epoch: 29/30... Step: 3010... Loss: 1.0893... Val Loss: 1.1704\n",
      "Epoch: 29/30... Step: 3020... Loss: 1.0994... Val Loss: 1.1661\n",
      "Epoch: 29/30... Step: 3030... Loss: 1.1055... Val Loss: 1.1689\n",
      "Epoch: 29/30... Step: 3040... Loss: 1.1024... Val Loss: 1.1679\n",
      "Epoch: 29/30... Step: 3050... Loss: 1.0917... Val Loss: 1.1671\n",
      "Epoch: 29/30... Step: 3060... Loss: 1.1120... Val Loss: 1.1651\n",
      "Epoch: 29/30... Step: 3070... Loss: 1.1098... Val Loss: 1.1706\n",
      "Epoch: 29/30... Step: 3080... Loss: 1.1061... Val Loss: 1.1688\n",
      "Epoch: 29/30... Step: 3090... Loss: 1.1064... Val Loss: 1.1669\n",
      "Epoch: 29/30... Step: 3100... Loss: 1.1160... Val Loss: 1.1746\n",
      "Epoch: 30/30... Step: 3110... Loss: 1.1131... Val Loss: 1.1734\n",
      "Epoch: 30/30... Step: 3120... Loss: 1.0904... Val Loss: 1.1678\n",
      "Epoch: 30/30... Step: 3130... Loss: 1.0872... Val Loss: 1.1643\n",
      "Epoch: 30/30... Step: 3140... Loss: 1.1079... Val Loss: 1.1676\n",
      "Epoch: 30/30... Step: 3150... Loss: 1.0867... Val Loss: 1.1702\n",
      "Epoch: 30/30... Step: 3160... Loss: 1.1155... Val Loss: 1.1679\n",
      "Epoch: 30/30... Step: 3170... Loss: 1.0955... Val Loss: 1.1651\n",
      "Epoch: 30/30... Step: 3180... Loss: 1.1102... Val Loss: 1.1644\n",
      "Epoch: 30/30... Step: 3190... Loss: 1.0903... Val Loss: 1.1634\n",
      "Epoch: 30/30... Step: 3200... Loss: 1.1096... Val Loss: 1.1614\n",
      "Epoch: 30/30... Step: 3210... Loss: 1.1513... Val Loss: 1.1663\n"
     ]
    }
   ],
   "source": [
    "batch_size = 166\n",
    "seq_length = 100\n",
    "n_epochs =  30 # start small if you are just testing initial behavior\n",
    "\n",
    "# train the model\n",
    "train(net, encoded, epochs=n_epochs, batch_size=batch_size, seq_length=seq_length, lr=0.001, print_every=10)"
   ]
  },
  {
   "cell_type": "markdown",
   "metadata": {
    "colab_type": "text",
    "id": "kBIjE_6KT6Kw"
   },
   "source": [
    "## Getting the best model\n",
    "\n",
    "To set your hyperparameters to get the best performance, you'll want to watch the training and validation losses. If your training loss is much lower than the validation loss, you're overfitting. Increase regularization (more dropout) or use a smaller network. If the training and validation losses are close, you're underfitting so you can increase the size of the network."
   ]
  },
  {
   "cell_type": "markdown",
   "metadata": {
    "colab_type": "text",
    "id": "skGOFBdcT6Kx"
   },
   "source": [
    "## Hyperparameters\n",
    "\n",
    "Here are the hyperparameters for the network.\n",
    "\n",
    "In defining the model:\n",
    "* `n_hidden` - The number of units in the hidden layers.\n",
    "* `n_layers` - Number of hidden LSTM layers to use.\n",
    "\n",
    "We assume that dropout probability and learning rate will be kept at the default, in this example.\n",
    "\n",
    "And in training:\n",
    "* `batch_size` - Number of sequences running through the network in one pass.\n",
    "* `seq_length` - Number of characters in the sequence the network is trained on. Larger is better typically, the network will learn more long range dependencies. But it takes longer to train. 100 is typically a good number here.\n",
    "* `lr` - Learning rate for training\n",
    "\n",
    "Here's some good advice from Andrej Karpathy on training the network. I'm going to copy it in here for your benefit, but also link to [where it originally came from](https://github.com/karpathy/char-rnn#tips-and-tricks).\n",
    "\n",
    "> ## Tips and Tricks\n",
    "\n",
    ">### Monitoring Validation Loss vs. Training Loss\n",
    ">If you're somewhat new to Machine Learning or Neural Networks it can take a bit of expertise to get good models. The most important quantity to keep track of is the difference between your training loss (printed during training) and the validation loss (printed once in a while when the RNN is run on the validation data (by default every 1000 iterations)). In particular:\n",
    "\n",
    "> - If your training loss is much lower than validation loss then this means the network might be **overfitting**. Solutions to this are to decrease your network size, or to increase dropout. For example you could try dropout of 0.5 and so on.\n",
    "> - If your training/validation loss are about equal then your model is **underfitting**. Increase the size of your model (either number of layers or the raw number of neurons per layer)\n",
    "\n",
    "> ### Approximate number of parameters\n",
    "\n",
    "> The two most important parameters that control the model are `n_hidden` and `n_layers`. I would advise that you always use `n_layers` of either 2/3. The `n_hidden` can be adjusted based on how much data you have. The two important quantities to keep track of here are:\n",
    "\n",
    "> - The number of parameters in your model. This is printed when you start training.\n",
    "> - The size of your dataset. 1MB file is approximately 1 million characters.\n",
    "\n",
    ">These two should be about the same order of magnitude. It's a little tricky to tell. Here are some examples:\n",
    "\n",
    "> - I have a 100MB dataset and I'm using the default parameter settings (which currently print 150K parameters). My data size is significantly larger (100 mil >> 0.15 mil), so I expect to heavily underfit. I am thinking I can comfortably afford to make `n_hidden` larger.\n",
    "> - I have a 10MB dataset and running a 10 million parameter model. I'm slightly nervous and I'm carefully monitoring my validation loss. If it's larger than my training loss then I may want to try to increase dropout a bit and see if that helps the validation loss.\n",
    "\n",
    "> ### Best models strategy\n",
    "\n",
    ">The winning strategy to obtaining very good models (if you have the compute time) is to always err on making the network larger (as large as you're willing to wait for it to compute) and then try different dropout values (between 0,1). Whatever model has the best validation performance (the loss, written in the checkpoint filename, low is good) is the one you should use in the end.\n",
    "\n",
    ">It is very common in deep learning to run many different models with many different hyperparameter settings, and in the end take whatever checkpoint gave the best validation performance.\n",
    "\n",
    ">By the way, the size of your training and validation splits are also parameters. Make sure you have a decent amount of data in your validation set or otherwise the validation performance will be noisy and not very informative."
   ]
  },
  {
   "cell_type": "markdown",
   "metadata": {
    "colab_type": "text",
    "id": "3tHo3pNUT6Ky"
   },
   "source": [
    "## Checkpoint\n",
    "\n",
    "After training, we'll save the model so we can load it again later if we need too. Here I'm saving the parameters needed to create the same architecture, the hidden layer hyperparameters and the text characters."
   ]
  },
  {
   "cell_type": "code",
   "execution_count": 0,
   "metadata": {
    "colab": {},
    "colab_type": "code",
    "id": "joQCz54wT6K0"
   },
   "outputs": [],
   "source": [
    "# change the name, for saving multiple files\n",
    "model_name = 'rnn_x_epoch.net'\n",
    "\n",
    "checkpoint = {'n_hidden': net.n_hidden,\n",
    "              'n_layers': net.n_layers,\n",
    "              'state_dict': net.state_dict(),\n",
    "              'tokens': net.chars}\n",
    "\n",
    "with open(model_name, 'wb') as f:\n",
    "    torch.save(checkpoint, f)"
   ]
  },
  {
   "cell_type": "markdown",
   "metadata": {
    "colab_type": "text",
    "id": "fgtxiIuRT6K5"
   },
   "source": [
    "---\n",
    "## Making Predictions\n",
    "\n",
    "Now that the model is trained, we'll want to sample from it and make predictions about next characters! To sample, we pass in a character and have the network predict the next character. Then we take that character, pass it back in, and get another predicted character. Just keep doing this and you'll generate a bunch of text!\n",
    "\n",
    "### A note on the `predict`  function\n",
    "\n",
    "The output of our RNN is from a fully-connected layer and it outputs a **distribution of next-character scores**.\n",
    "\n",
    "> To actually get the next character, we apply a softmax function, which gives us a *probability* distribution that we can then sample to predict the next character.\n",
    "\n",
    "### Top K sampling\n",
    "\n",
    "Our predictions come from a categorical probability distribution over all the possible characters. We can make the sample text and make it more reasonable to handle (with less variables) by only considering some $K$ most probable characters. This will prevent the network from giving us completely absurd characters while allowing it to introduce some noise and randomness into the sampled text. Read more about [topk, here](https://pytorch.org/docs/stable/torch.html#torch.topk).\n"
   ]
  },
  {
   "cell_type": "code",
   "execution_count": 0,
   "metadata": {
    "colab": {},
    "colab_type": "code",
    "id": "gxIpoydyT6K6"
   },
   "outputs": [],
   "source": [
    "def predict(net, char, h=None, top_k=None):\n",
    "        ''' Given a character, predict the next character.\n",
    "            Returns the predicted character and the hidden state.\n",
    "        '''\n",
    "        \n",
    "        # tensor inputs\n",
    "        x = np.array([[net.char2int[char]]])\n",
    "        x = one_hot_encode(x, len(net.chars))\n",
    "        inputs = torch.from_numpy(x)\n",
    "        \n",
    "        if(train_on_gpu):\n",
    "            inputs = inputs.cuda()\n",
    "        \n",
    "        # detach hidden state from history\n",
    "        h = tuple([each.data for each in h])\n",
    "        # get the output of the model\n",
    "        out, h = net(inputs, h)\n",
    "\n",
    "        # get the character probabilities\n",
    "        p = F.softmax(out, dim=1).data\n",
    "        if(train_on_gpu):\n",
    "            p = p.cpu() # move to cpu\n",
    "        \n",
    "        # get top characters\n",
    "        if top_k is None:\n",
    "            top_ch = np.arange(len(net.chars))\n",
    "        else:\n",
    "            p, top_ch = p.topk(top_k)\n",
    "            top_ch = top_ch.numpy().squeeze()\n",
    "        \n",
    "        # select the likely next character with some element of randomness\n",
    "        p = p.numpy().squeeze()\n",
    "        char = np.random.choice(top_ch, p=p/p.sum())\n",
    "        \n",
    "        # return the encoded value of the predicted char and the hidden state\n",
    "        return net.int2char[char], h"
   ]
  },
  {
   "cell_type": "markdown",
   "metadata": {
    "colab_type": "text",
    "id": "UGuGDuI1T6LA"
   },
   "source": [
    "### Priming and generating text \n",
    "\n",
    "Typically you'll want to prime the network so you can build up a hidden state. Otherwise the network will start out generating characters at random. In general the first bunch of characters will be a little rough since it hasn't built up a long history of characters to predict from."
   ]
  },
  {
   "cell_type": "code",
   "execution_count": 0,
   "metadata": {
    "colab": {},
    "colab_type": "code",
    "id": "bB9bzQczT6LA"
   },
   "outputs": [],
   "source": [
    "def sample(net, size, prime='The', top_k=None):\n",
    "        \n",
    "    if(train_on_gpu):\n",
    "        net.cuda()\n",
    "    else:\n",
    "        net.cpu()\n",
    "    \n",
    "    net.eval() # eval mode\n",
    "    \n",
    "    # First off, run through the prime characters\n",
    "    chars = [ch for ch in prime]\n",
    "    h = net.init_hidden(1)\n",
    "    for ch in prime:\n",
    "        char, h = predict(net, ch, h, top_k=top_k)\n",
    "\n",
    "    chars.append(char)\n",
    "    \n",
    "    # Now pass in the previous character and get a new one\n",
    "    for ii in range(size):\n",
    "        char, h = predict(net, chars[-1], h, top_k=top_k)\n",
    "        chars.append(char)\n",
    "\n",
    "    return ''.join(chars)"
   ]
  },
  {
   "cell_type": "code",
   "execution_count": 19,
   "metadata": {
    "colab": {
     "base_uri": "https://localhost:8080/",
     "height": 306
    },
    "colab_type": "code",
    "id": "ipB86TPbT6LH",
    "outputId": "7ce9b53d-0196-490b-8763-2ccd21e5d4ce"
   },
   "outputs": [
    {
     "name": "stdout",
     "output_type": "stream",
     "text": [
      "Anna\n",
      "Anna! And the more interesting it of the state of the sama thing that\n",
      "has happened. But the same thing so there was she had no rooms. Alexey\n",
      "Alexandrovitch was sure to be something to her all sides, and was in\n",
      "his his brother, too walked and considered him to divide it, thanks with\n",
      "him to help happiny over her husband as though he had a difficult espeniat\n",
      "common, and that it was a moment, as it were, those children had not changed\n",
      "to them..\n",
      "\n",
      "The second passionate and changing smile wore shood as it were,\n",
      "some sort of consequence in which he was not grown away, and to be\n",
      "asked, and he settly that he was said, to see what would have said with him\n",
      "in her son. \"I see you did saw her, I'm not grawifal if the province, that they are\n",
      "about their conversation. I have to call the same time of their. And I'm always to say\n",
      "in a carriage or tor their past to the sacrament and my last crack, and\n",
      "was not telling you what here are more than the peasants'll something by the\n",
      "same time to make you. I sa\n"
     ]
    }
   ],
   "source": [
    "print(sample(net, 1000, prime='Anna', top_k=5))"
   ]
  },
  {
   "cell_type": "markdown",
   "metadata": {
    "colab_type": "text",
    "id": "Str0mnWeT6LN"
   },
   "source": [
    "## Loading a checkpoint"
   ]
  },
  {
   "cell_type": "code",
   "execution_count": 20,
   "metadata": {
    "colab": {
     "base_uri": "https://localhost:8080/",
     "height": 34
    },
    "colab_type": "code",
    "id": "avBxjPfCT6LN",
    "outputId": "a3c04bf0-665c-4064-8a8f-6dbcf3a5cbe2"
   },
   "outputs": [
    {
     "data": {
      "text/plain": [
       "<All keys matched successfully>"
      ]
     },
     "execution_count": 20,
     "metadata": {
      "tags": []
     },
     "output_type": "execute_result"
    }
   ],
   "source": [
    "# Here we have loaded in a model that trained over 20 epochs `rnn_20_epoch.net`\n",
    "with open('rnn_x_epoch.net', 'rb') as f:\n",
    "    checkpoint = torch.load(f)\n",
    "    \n",
    "loaded = CharRNN(checkpoint['tokens'], n_hidden=checkpoint['n_hidden'], n_layers=checkpoint['n_layers'])\n",
    "loaded.load_state_dict(checkpoint['state_dict'])"
   ]
  },
  {
   "cell_type": "code",
   "execution_count": 21,
   "metadata": {
    "colab": {
     "base_uri": "https://localhost:8080/",
     "height": 697
    },
    "colab_type": "code",
    "id": "gy4i_8PVT6LX",
    "outputId": "348f6a8c-4fe5-4bf9-eccf-bf815a34545b"
   },
   "outputs": [
    {
     "name": "stdout",
     "output_type": "stream",
     "text": [
      "And Levin said:\n",
      "\n",
      "\"I have not seen his studic. The doctor's all was as he does so let her.\n",
      "The doctor, while you despead!\" he arrived; but a smile, she would have lost his\n",
      "fingers, and seemed to see him to him.\n",
      "\n",
      "\"It's a lawyer, if your crosses my wond of hin is, and shame on all, if\n",
      "you comes,\" answered Stepan Arkadyevitch.\n",
      "\n",
      "\"I say to the conversation on the mother till he would have liked,\" she said to\n",
      "himself with a good-moment.\n",
      "\n",
      "\"I was a delightful! If you know how she has so asside as it was to the\n",
      "coact, of course. You will say to him, the difference we have been so many words\n",
      "to me of them,\" said Stepan Arkadyevitch, as she heard which she foldow,\n",
      "at the same conversation to the people and stepped by the cheek, and had been\n",
      "brought to his wife.\n",
      "\n",
      "\"I don't understand him,\" he when stirring askad.\n",
      "\"Where ame you to be sure today,\" he said to himself in her shirt. \"I don't want to\n",
      "must have a going about it aslish as soon as my headt.\"\n",
      "\n",
      "\"Why do you take me in her son, I'm always discinctly abroad,\" said the princess.\n",
      "\"And thinking of your words. And you know that it can't be done to\n",
      "my department, and I cannot leave him. I should have been to go away,\" and\n",
      "suffiginnting in a step stidued, but he was at love with a subject\n",
      "astent and a force. \"I don't care, it's a lattle.\"\n",
      "\n",
      "Their way to tears of the carriage, he came out to him with a smile, all the\n",
      "comfact of all silence, who they answered singing on him and the farm\n",
      "in his eyes. She drove the stright, as she done alone towards the sort of\n",
      "times, alm so hor of her husband had been as to him told that was hid before the\n",
      "money and the struping prover of having beaten their people, where\n",
      "it was over, the desire of his face of his faviliar sort of that which was so\n",
      "something that she had been possible, and he could not get on at terror of\n",
      "the corner of subjects.\n",
      "\n",
      "\"To be tasked, and what did the cries were to send it all? I wanned\n",
      "to set if it was there is so machines, and I hove you and what I have not been\n",
      "told me, anyway, you don't\n"
     ]
    }
   ],
   "source": [
    "# Sample using a loaded model\n",
    "print(sample(loaded, 2000, top_k=5, prime=\"And Levin said\"))"
   ]
  }
 ],
 "metadata": {
  "accelerator": "GPU",
  "colab": {
   "collapsed_sections": [],
   "name": "Character_Level_RNN_Exercise.ipynb",
   "provenance": []
  },
  "kernelspec": {
   "display_name": "Python 3",
   "language": "python",
   "name": "python3"
  },
  "language_info": {
   "codemirror_mode": {
    "name": "ipython",
    "version": 3
   },
   "file_extension": ".py",
   "mimetype": "text/x-python",
   "name": "python",
   "nbconvert_exporter": "python",
   "pygments_lexer": "ipython3",
   "version": "3.6.10"
  }
 },
 "nbformat": 4,
 "nbformat_minor": 1
}
